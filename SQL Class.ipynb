{
 "cells": [
  {
   "cell_type": "code",
   "execution_count": 1,
   "id": "45b68848",
   "metadata": {},
   "outputs": [],
   "source": [
    "import sqlite3"
   ]
  },
  {
   "cell_type": "code",
   "execution_count": 2,
   "id": "63ab24a5",
   "metadata": {},
   "outputs": [],
   "source": [
    "con = sqlite3.connect('mydatabase.db')"
   ]
  },
  {
   "cell_type": "code",
   "execution_count": 3,
   "id": "a1f295e9",
   "metadata": {},
   "outputs": [],
   "source": [
    "cursor = con.cursor()"
   ]
  },
  {
   "cell_type": "markdown",
   "id": "3fbdaabf",
   "metadata": {},
   "source": [
    "#### Two ways of passing code:\n",
    "\n",
    "1. Manually as an integer\n",
    "2. Authomatically as an entity"
   ]
  },
  {
   "cell_type": "code",
   "execution_count": 4,
   "id": "d2cf4b46",
   "metadata": {},
   "outputs": [
    {
     "ename": "OperationalError",
     "evalue": "table employees already exists",
     "output_type": "error",
     "traceback": [
      "\u001b[1;31m---------------------------------------------------------------------------\u001b[0m",
      "\u001b[1;31mOperationalError\u001b[0m                          Traceback (most recent call last)",
      "\u001b[1;32m<ipython-input-4-487666eb06c6>\u001b[0m in \u001b[0;36m<module>\u001b[1;34m\u001b[0m\n\u001b[1;32m----> 1\u001b[1;33m \u001b[0mcursor\u001b[0m\u001b[1;33m.\u001b[0m\u001b[0mexecute\u001b[0m\u001b[1;33m(\u001b[0m\u001b[1;34m\"CREATE TABLE employees(id integer PRIMARY KEY, name text, salary real, department text, position text, hireDate text)\"\u001b[0m\u001b[1;33m)\u001b[0m\u001b[1;33m\u001b[0m\u001b[1;33m\u001b[0m\u001b[0m\n\u001b[0m\u001b[0;32m      2\u001b[0m \u001b[0mcon\u001b[0m\u001b[1;33m.\u001b[0m\u001b[0mcommit\u001b[0m\u001b[1;33m(\u001b[0m\u001b[1;33m)\u001b[0m\u001b[1;33m\u001b[0m\u001b[1;33m\u001b[0m\u001b[0m\n",
      "\u001b[1;31mOperationalError\u001b[0m: table employees already exists"
     ]
    }
   ],
   "source": [
    "cursor.execute(\"CREATE TABLE employees(id integer PRIMARY KEY, name text, salary real, department text, position text, hireDate text)\")\n",
    "con.commit()"
   ]
  },
  {
   "cell_type": "code",
   "execution_count": 12,
   "id": "b58f76cd",
   "metadata": {},
   "outputs": [],
   "source": [
    "cursor.execute(\"INSERT INTO employees VALUES(5, 'Wieto',600,'IT','Manager','2021-06-22')\")\n",
    "con.commit()"
   ]
  },
  {
   "cell_type": "code",
   "execution_count": 13,
   "id": "29607119",
   "metadata": {},
   "outputs": [],
   "source": [
    "cursor.execute(\"INSERT INTO employees VALUES(6, 'Mayo',4000,'Data Scientist','Manager','2021-06-22')\")\n",
    "con.commit()"
   ]
  },
  {
   "cell_type": "markdown",
   "id": "ef029dca",
   "metadata": {},
   "source": [
    "#### Add information automatically"
   ]
  },
  {
   "cell_type": "code",
   "execution_count": 15,
   "id": "91f7aaa7",
   "metadata": {},
   "outputs": [],
   "source": [
    "entities = (9, 'Oluchi Mercy',1200,'HR ','Assistant Manager','2021-06-22')\n",
    "cursor.execute(\"INSERT INTO employees(id,name,salary,department,position,hireDate) VALUES(?,?,?,?,?,?)\",entities)\n",
    "con.commit()"
   ]
  },
  {
   "cell_type": "code",
   "execution_count": 8,
   "id": "ca00e118",
   "metadata": {},
   "outputs": [
    {
     "name": "stdout",
     "output_type": "stream",
     "text": [
      "Enter your ID: 7\n",
      "Enter your name: uui\n",
      "Enter your salary: 43\n",
      "Enter your department: driver\n",
      "Enter your position: driver\n",
      "Enter date \"YYYY-M-D\": 2020-04-03\n",
      "Data has been inserted!!!\n"
     ]
    }
   ],
   "source": [
    "user_id = int(input('Enter your ID: '))\n",
    "name = input('Enter your name: ')\n",
    "salary = float(input('Enter your salary: '))\n",
    "department = input('Enter your department: ')\n",
    "position = input('Enter your position: ')\n",
    "date = input('Enter date \"YYYY-M-D\": ')\n",
    "entities = (user_id,name,salary,department,position,date)\n",
    "cursor.execute(\"INSERT INTO employees(id,name,salary,department,position,hireDate) VALUES(?,?,?,?,?,?)\",entities)\n",
    "con.commit()\n",
    "print('Data has been inserted!!!')"
   ]
  },
  {
   "cell_type": "code",
   "execution_count": null,
   "id": "92fcd088",
   "metadata": {},
   "outputs": [],
   "source": [
    "#user_id = int(input('Enter your ID: '))\n",
    "#name = input('Enter your name: ')\n",
    "#salary = float(input('Enter your salary: '))\n",
    "#department = input('Enter your department: ')\n",
    "#position = input('Enter your position: ')\n",
    "#date = input('Enter date \"YYYY-M-D\": ')\n",
    "#entities = (user_id,name,salary,department,position,date)\n",
    "#cursor.execute(\"INSERT INTO employees(id,name,salary,department,position,hireDate) VALUES(?,?,?,?,?,?)\",entities)\n",
    "#con.commit()\n",
    "#print('Data has been inserted!!')"
   ]
  },
  {
   "cell_type": "markdown",
   "id": "d6161a51",
   "metadata": {},
   "source": [
    "#### Update Name/ Add/ Edit Name and Information in the DataBase"
   ]
  },
  {
   "cell_type": "code",
   "execution_count": 10,
   "id": "6458ddb2",
   "metadata": {},
   "outputs": [],
   "source": [
    "cursor.execute('UPDATE employees SET name = \"George\" where id = 3')\n",
    "con.commit()"
   ]
  },
  {
   "cell_type": "code",
   "execution_count": 11,
   "id": "4403a736",
   "metadata": {},
   "outputs": [],
   "source": [
    "cursor.execute('UPDATE employees SET salary = 650 where id = 3')\n",
    "con.commit()"
   ]
  },
  {
   "cell_type": "code",
   "execution_count": null,
   "id": "fc4ff33a",
   "metadata": {},
   "outputs": [],
   "source": []
  },
  {
   "cell_type": "code",
   "execution_count": 16,
   "id": "31d2a31c",
   "metadata": {},
   "outputs": [
    {
     "data": {
      "text/plain": [
       "<sqlite3.Cursor at 0x225af602500>"
      ]
     },
     "execution_count": 16,
     "metadata": {},
     "output_type": "execute_result"
    }
   ],
   "source": [
    "cursor.execute('SELECT * FROM employees')"
   ]
  },
  {
   "cell_type": "code",
   "execution_count": 17,
   "id": "a63ebb7f",
   "metadata": {},
   "outputs": [
    {
     "name": "stdout",
     "output_type": "stream",
     "text": [
      "(1, 'Winner Emeto', 700.0, 'IT', 'Manager', '2021-06-22')\n",
      "(2, 'Mary Adebayo', 4600.0, 'Data Scientist', 'Manager', '2021-06-22')\n",
      "(3, 'George', 650.0, 'HR', 'Manager', '2021-06-22')\n",
      "(4, 'Uloeme Daphene', 2100.0, 'Food Nutritionist', 'Manager', '2021-06-12')\n",
      "(5, 'Wieto', 600.0, 'IT', 'Manager', '2021-06-22')\n",
      "(6, 'Mayo', 4000.0, 'Data Scientist', 'Manager', '2021-06-22')\n",
      "(7, 'uui', 43.0, 'driver', 'driver', '2020-04-03')\n",
      "(9, 'Oluchi Mercy', 1200.0, 'HR ', 'Assistant Manager', '2021-06-22')\n"
     ]
    }
   ],
   "source": [
    "cursor.execute('SELECT * FROM employees')\n",
    "rows = cursor.fetchall()\n",
    "for row in rows:\n",
    "    print(row)"
   ]
  },
  {
   "cell_type": "markdown",
   "id": "8aebd1f1",
   "metadata": {},
   "source": [
    "#### Change more than 1 data in a row"
   ]
  },
  {
   "cell_type": "code",
   "execution_count": 23,
   "id": "91a1e7d7",
   "metadata": {},
   "outputs": [],
   "source": [
    "cursor.execute(\"UPDATE employees SET salary=700,name='Peter' where id = 4\")\n",
    "con.commit()"
   ]
  },
  {
   "cell_type": "code",
   "execution_count": 24,
   "id": "af34c7be",
   "metadata": {},
   "outputs": [
    {
     "name": "stdout",
     "output_type": "stream",
     "text": [
      "(1, 'Winner Emeto', 700.0, 'IT', 'Manager', '2021-06-22')\n",
      "(2, 'Mary Adebayo', 4600.0, 'Data Scientist', 'Manager', '2021-06-22')\n",
      "(3, 'George', 650.0, 'HR', 'Manager', '2021-06-22')\n",
      "(4, 'Peter', 700.0, 'Food Nutritionist', 'Manager', '2021-06-12')\n",
      "(5, 'Wieto', 600.0, 'IT', 'Manager', '2021-06-22')\n",
      "(6, 'Mayo', 4000.0, 'Data Scientist', 'Manager', '2021-06-22')\n",
      "(7, 'uui', 43.0, 'driver', 'driver', '2020-04-03')\n",
      "(9, 'Oluchi Mercy', 1200.0, 'HR ', 'Assistant Manager', '2021-06-22')\n"
     ]
    }
   ],
   "source": [
    "cursor.execute('SELECT * FROM employees')\n",
    "rows = cursor.fetchall()\n",
    "for row in rows:\n",
    "    print(row)"
   ]
  },
  {
   "cell_type": "code",
   "execution_count": 25,
   "id": "49a1d129",
   "metadata": {},
   "outputs": [
    {
     "name": "stdout",
     "output_type": "stream",
     "text": [
      "(700.0, '2021-06-22')\n",
      "(4600.0, '2021-06-22')\n",
      "(650.0, '2021-06-22')\n",
      "(700.0, '2021-06-12')\n",
      "(600.0, '2021-06-22')\n",
      "(4000.0, '2021-06-22')\n",
      "(43.0, '2020-04-03')\n",
      "(1200.0, '2021-06-22')\n"
     ]
    }
   ],
   "source": [
    "cursor.execute('SELECT salary,hireDate FROM employees')\n",
    "rows = cursor.fetchall()\n",
    "for row in rows:\n",
    "    print(row)"
   ]
  },
  {
   "cell_type": "markdown",
   "id": "d9aaae04",
   "metadata": {},
   "source": [
    "#### Select unique value i.e remove duplicates"
   ]
  },
  {
   "cell_type": "code",
   "execution_count": 26,
   "id": "1b4e7a69",
   "metadata": {},
   "outputs": [
    {
     "name": "stdout",
     "output_type": "stream",
     "text": [
      "(700.0, '2021-06-22')\n",
      "(4600.0, '2021-06-22')\n",
      "(650.0, '2021-06-22')\n",
      "(700.0, '2021-06-12')\n",
      "(600.0, '2021-06-22')\n",
      "(4000.0, '2021-06-22')\n",
      "(43.0, '2020-04-03')\n",
      "(1200.0, '2021-06-22')\n"
     ]
    }
   ],
   "source": [
    "cursor.execute('SELECT DISTINCT salary,hireDate FROM employees')\n",
    "rows = cursor.fetchall()\n",
    "for row in rows:\n",
    "    print(row)"
   ]
  },
  {
   "cell_type": "code",
   "execution_count": 27,
   "id": "6cbfb914",
   "metadata": {},
   "outputs": [
    {
     "name": "stdout",
     "output_type": "stream",
     "text": [
      "(700.0, '2021-06-22')\n",
      "(700.0, '2021-06-12')\n"
     ]
    }
   ],
   "source": [
    "cursor.execute('SELECT salary,hireDate FROM employees WHERE salary = 700')\n",
    "rows = cursor.fetchall()\n",
    "for row in rows:\n",
    "    print(row)"
   ]
  },
  {
   "cell_type": "markdown",
   "id": "bb45bb16",
   "metadata": {},
   "source": [
    "#### Applying logical Operators"
   ]
  },
  {
   "cell_type": "code",
   "execution_count": 28,
   "id": "c64fe113",
   "metadata": {},
   "outputs": [],
   "source": [
    "cursor.execute(\"UPDATE employees SET hireDate='2021-06-20' where id = 1\")\n",
    "con.commit()"
   ]
  },
  {
   "cell_type": "code",
   "execution_count": 29,
   "id": "9ce9328b",
   "metadata": {},
   "outputs": [
    {
     "name": "stdout",
     "output_type": "stream",
     "text": [
      "(700.0, '2021-06-20')\n",
      "(700.0, '2021-06-12')\n"
     ]
    }
   ],
   "source": [
    "cursor.execute('SELECT salary,hireDate FROM employees WHERE salary = 700')\n",
    "rows = cursor.fetchall()\n",
    "for row in rows:\n",
    "    print(row)"
   ]
  },
  {
   "cell_type": "code",
   "execution_count": 30,
   "id": "7341e8dc",
   "metadata": {},
   "outputs": [
    {
     "name": "stdout",
     "output_type": "stream",
     "text": [
      "(700.0, '2021-06-20')\n"
     ]
    }
   ],
   "source": [
    "cursor.execute('SELECT salary,hireDate FROM employees WHERE salary = 700 AND hireDate =\"2021-06-20\"')\n",
    "rows = cursor.fetchall()\n",
    "for row in rows:\n",
    "    print(row)"
   ]
  },
  {
   "cell_type": "code",
   "execution_count": 31,
   "id": "4a8c0f9f",
   "metadata": {},
   "outputs": [
    {
     "name": "stdout",
     "output_type": "stream",
     "text": [
      "(1, 'Winner Emeto', 700.0, 'IT', 'Manager', '2021-06-20')\n"
     ]
    }
   ],
   "source": [
    "cursor.execute('SELECT * FROM employees WHERE salary = 700 AND hireDate =\"2021-06-20\"')\n",
    "rows = cursor.fetchall()\n",
    "for row in rows:\n",
    "    print(row)"
   ]
  },
  {
   "cell_type": "markdown",
   "id": "70015296",
   "metadata": {},
   "source": [
    "#### Sorting/ Arranging and filtering"
   ]
  },
  {
   "cell_type": "code",
   "execution_count": 32,
   "id": "e6f37b73",
   "metadata": {},
   "outputs": [
    {
     "data": {
      "text/plain": [
       "[(1, 'Winner Emeto', 700.0, 'IT', 'Manager', '2021-06-20'),\n",
       " (2, 'Mary Adebayo', 4600.0, 'Data Scientist', 'Manager', '2021-06-22'),\n",
       " (3, 'George', 650.0, 'HR', 'Manager', '2021-06-22'),\n",
       " (4, 'Peter', 700.0, 'Food Nutritionist', 'Manager', '2021-06-12'),\n",
       " (5, 'Wieto', 600.0, 'IT', 'Manager', '2021-06-22'),\n",
       " (6, 'Mayo', 4000.0, 'Data Scientist', 'Manager', '2021-06-22'),\n",
       " (7, 'uui', 43.0, 'driver', 'driver', '2020-04-03'),\n",
       " (9, 'Oluchi Mercy', 1200.0, 'HR ', 'Assistant Manager', '2021-06-22')]"
      ]
     },
     "execution_count": 32,
     "metadata": {},
     "output_type": "execute_result"
    }
   ],
   "source": [
    "cursor.execute('SELECT * FROM employees ORDER BY id')\n",
    "rows = cursor.fetchall()\n",
    "rows"
   ]
  },
  {
   "cell_type": "code",
   "execution_count": 33,
   "id": "194eaeb3",
   "metadata": {},
   "outputs": [
    {
     "data": {
      "text/plain": [
       "[(7, 'uui', 43.0, 'driver', 'driver', '2020-04-03'),\n",
       " (5, 'Wieto', 600.0, 'IT', 'Manager', '2021-06-22'),\n",
       " (3, 'George', 650.0, 'HR', 'Manager', '2021-06-22'),\n",
       " (1, 'Winner Emeto', 700.0, 'IT', 'Manager', '2021-06-20'),\n",
       " (4, 'Peter', 700.0, 'Food Nutritionist', 'Manager', '2021-06-12'),\n",
       " (9, 'Oluchi Mercy', 1200.0, 'HR ', 'Assistant Manager', '2021-06-22'),\n",
       " (6, 'Mayo', 4000.0, 'Data Scientist', 'Manager', '2021-06-22'),\n",
       " (2, 'Mary Adebayo', 4600.0, 'Data Scientist', 'Manager', '2021-06-22')]"
      ]
     },
     "execution_count": 33,
     "metadata": {},
     "output_type": "execute_result"
    }
   ],
   "source": [
    "cursor.execute('SELECT * FROM employees ORDER BY salary')\n",
    "rows = cursor.fetchall()\n",
    "rows"
   ]
  },
  {
   "cell_type": "code",
   "execution_count": 34,
   "id": "cebaea0c",
   "metadata": {},
   "outputs": [
    {
     "data": {
      "text/plain": [
       "[(3, 'George', 650.0, 'HR', 'Manager', '2021-06-22'),\n",
       " (2, 'Mary Adebayo', 4600.0, 'Data Scientist', 'Manager', '2021-06-22'),\n",
       " (6, 'Mayo', 4000.0, 'Data Scientist', 'Manager', '2021-06-22'),\n",
       " (9, 'Oluchi Mercy', 1200.0, 'HR ', 'Assistant Manager', '2021-06-22'),\n",
       " (4, 'Peter', 700.0, 'Food Nutritionist', 'Manager', '2021-06-12'),\n",
       " (5, 'Wieto', 600.0, 'IT', 'Manager', '2021-06-22'),\n",
       " (1, 'Winner Emeto', 700.0, 'IT', 'Manager', '2021-06-20'),\n",
       " (7, 'uui', 43.0, 'driver', 'driver', '2020-04-03')]"
      ]
     },
     "execution_count": 34,
     "metadata": {},
     "output_type": "execute_result"
    }
   ],
   "source": [
    "cursor.execute('SELECT * FROM employees ORDER BY name')\n",
    "rows = cursor.fetchall()\n",
    "rows"
   ]
  },
  {
   "cell_type": "markdown",
   "id": "84fdfde0",
   "metadata": {},
   "source": [
    "#### Arranging from DESCENDING TO ASCENDING"
   ]
  },
  {
   "cell_type": "code",
   "execution_count": 35,
   "id": "f0255cfb",
   "metadata": {},
   "outputs": [
    {
     "data": {
      "text/plain": [
       "[(9, 'Oluchi Mercy', 1200.0, 'HR ', 'Assistant Manager', '2021-06-22'),\n",
       " (7, 'uui', 43.0, 'driver', 'driver', '2020-04-03'),\n",
       " (6, 'Mayo', 4000.0, 'Data Scientist', 'Manager', '2021-06-22'),\n",
       " (5, 'Wieto', 600.0, 'IT', 'Manager', '2021-06-22'),\n",
       " (4, 'Peter', 700.0, 'Food Nutritionist', 'Manager', '2021-06-12'),\n",
       " (3, 'George', 650.0, 'HR', 'Manager', '2021-06-22'),\n",
       " (2, 'Mary Adebayo', 4600.0, 'Data Scientist', 'Manager', '2021-06-22'),\n",
       " (1, 'Winner Emeto', 700.0, 'IT', 'Manager', '2021-06-20')]"
      ]
     },
     "execution_count": 35,
     "metadata": {},
     "output_type": "execute_result"
    }
   ],
   "source": [
    "cursor.execute('SELECT * FROM employees ORDER BY id DESC')\n",
    "rows = cursor.fetchall()\n",
    "rows"
   ]
  },
  {
   "cell_type": "code",
   "execution_count": 36,
   "id": "c2b9e779",
   "metadata": {},
   "outputs": [
    {
     "data": {
      "text/plain": [
       "[(2, 'Mary Adebayo', 4600.0, 'Data Scientist', 'Manager', '2021-06-22'),\n",
       " (6, 'Mayo', 4000.0, 'Data Scientist', 'Manager', '2021-06-22'),\n",
       " (9, 'Oluchi Mercy', 1200.0, 'HR ', 'Assistant Manager', '2021-06-22'),\n",
       " (1, 'Winner Emeto', 700.0, 'IT', 'Manager', '2021-06-20'),\n",
       " (4, 'Peter', 700.0, 'Food Nutritionist', 'Manager', '2021-06-12'),\n",
       " (3, 'George', 650.0, 'HR', 'Manager', '2021-06-22'),\n",
       " (5, 'Wieto', 600.0, 'IT', 'Manager', '2021-06-22'),\n",
       " (7, 'uui', 43.0, 'driver', 'driver', '2020-04-03')]"
      ]
     },
     "execution_count": 36,
     "metadata": {},
     "output_type": "execute_result"
    }
   ],
   "source": [
    "cursor.execute('SELECT * FROM employees ORDER BY salary DESC')\n",
    "rows = cursor.fetchall()\n",
    "rows"
   ]
  },
  {
   "cell_type": "code",
   "execution_count": 37,
   "id": "27b209d3",
   "metadata": {},
   "outputs": [
    {
     "data": {
      "text/plain": [
       "[(7, 'uui', 43.0, 'driver', 'driver', '2020-04-03'),\n",
       " (1, 'Winner Emeto', 700.0, 'IT', 'Manager', '2021-06-20'),\n",
       " (5, 'Wieto', 600.0, 'IT', 'Manager', '2021-06-22'),\n",
       " (4, 'Peter', 700.0, 'Food Nutritionist', 'Manager', '2021-06-12'),\n",
       " (9, 'Oluchi Mercy', 1200.0, 'HR ', 'Assistant Manager', '2021-06-22'),\n",
       " (6, 'Mayo', 4000.0, 'Data Scientist', 'Manager', '2021-06-22'),\n",
       " (2, 'Mary Adebayo', 4600.0, 'Data Scientist', 'Manager', '2021-06-22'),\n",
       " (3, 'George', 650.0, 'HR', 'Manager', '2021-06-22')]"
      ]
     },
     "execution_count": 37,
     "metadata": {},
     "output_type": "execute_result"
    }
   ],
   "source": [
    "cursor.execute('SELECT * FROM employees ORDER BY name DESC')\n",
    "rows = cursor.fetchall()\n",
    "rows"
   ]
  },
  {
   "cell_type": "markdown",
   "id": "dde6da04",
   "metadata": {},
   "source": [
    "#### How to Delete Data, Name, etc from your system"
   ]
  },
  {
   "cell_type": "code",
   "execution_count": 38,
   "id": "2a91105f",
   "metadata": {},
   "outputs": [],
   "source": [
    "cursor.execute('DELETE FROM employees WHERE id=9')\n",
    "con.commit()"
   ]
  },
  {
   "cell_type": "code",
   "execution_count": 40,
   "id": "883da9a1",
   "metadata": {},
   "outputs": [
    {
     "data": {
      "text/plain": [
       "[(7, 'uui', 43.0, 'driver', 'driver', '2020-04-03'),\n",
       " (6, 'Mayo', 4000.0, 'Data Scientist', 'Manager', '2021-06-22'),\n",
       " (5, 'Wieto', 600.0, 'IT', 'Manager', '2021-06-22'),\n",
       " (4, 'Peter', 700.0, 'Food Nutritionist', 'Manager', '2021-06-12'),\n",
       " (3, 'George', 650.0, 'HR', 'Manager', '2021-06-22'),\n",
       " (2, 'Mary Adebayo', 4600.0, 'Data Scientist', 'Manager', '2021-06-22'),\n",
       " (1, 'Winner Emeto', 700.0, 'IT', 'Manager', '2021-06-20')]"
      ]
     },
     "execution_count": 40,
     "metadata": {},
     "output_type": "execute_result"
    }
   ],
   "source": [
    "cursor.execute('SELECT * FROM employees ORDER BY id DESC')\n",
    "rows = cursor.fetchall()\n",
    "rows"
   ]
  },
  {
   "cell_type": "markdown",
   "id": "dacdce4c",
   "metadata": {},
   "source": [
    "#### Counting Individual records in the Database"
   ]
  },
  {
   "cell_type": "code",
   "execution_count": 41,
   "id": "e5ed371b",
   "metadata": {},
   "outputs": [
    {
     "data": {
      "text/plain": [
       "[(7, 'Winner Emeto')]"
      ]
     },
     "execution_count": 41,
     "metadata": {},
     "output_type": "execute_result"
    }
   ],
   "source": [
    "cursor.execute('SELECT COUNT(id),name FROM employees')\n",
    "rows = cursor.fetchall()\n",
    "rows"
   ]
  },
  {
   "cell_type": "code",
   "execution_count": 42,
   "id": "e0729da8",
   "metadata": {},
   "outputs": [
    {
     "data": {
      "text/plain": [
       "[(2, 'Data Scientist'),\n",
       " (1, 'Food Nutritionist'),\n",
       " (1, 'HR'),\n",
       " (2, 'IT'),\n",
       " (1, 'driver')]"
      ]
     },
     "execution_count": 42,
     "metadata": {},
     "output_type": "execute_result"
    }
   ],
   "source": [
    "cursor.execute('SELECT COUNT(id),department FROM employees GROUP BY department')\n",
    "rows = cursor.fetchall()\n",
    "rows"
   ]
  },
  {
   "cell_type": "code",
   "execution_count": 43,
   "id": "77d4fed6",
   "metadata": {},
   "outputs": [
    {
     "name": "stdout",
     "output_type": "stream",
     "text": [
      "(1, 'Winner Emeto', 700.0, 'IT', 'Manager', '2021-06-20')\n",
      "(5, 'Wieto', 600.0, 'IT', 'Manager', '2021-06-22')\n"
     ]
    }
   ],
   "source": [
    "cursor.execute('SELECT * FROM employees WHERE department = \"IT\" ')\n",
    "rows = cursor.fetchall()\n",
    "for row in rows:\n",
    "    print(row)"
   ]
  },
  {
   "cell_type": "code",
   "execution_count": 44,
   "id": "b5b1aac6",
   "metadata": {},
   "outputs": [
    {
     "name": "stdout",
     "output_type": "stream",
     "text": [
      "(2, 'Mary Adebayo', 4600.0, 'Data Scientist', 'Manager', '2021-06-22')\n",
      "(6, 'Mayo', 4000.0, 'Data Scientist', 'Manager', '2021-06-22')\n"
     ]
    }
   ],
   "source": [
    "cursor.execute('SELECT * FROM employees WHERE department = \"Data Scientist\" ')\n",
    "rows = cursor.fetchall()\n",
    "for row in rows:\n",
    "    print(row)"
   ]
  },
  {
   "cell_type": "markdown",
   "id": "711826a4",
   "metadata": {},
   "source": [
    "#### How to delete Table from Database"
   ]
  },
  {
   "cell_type": "code",
   "execution_count": null,
   "id": "20088fd3",
   "metadata": {},
   "outputs": [],
   "source": [
    "#cursor.execute('drop table if exists employees')\n",
    "#con.commit()"
   ]
  },
  {
   "cell_type": "markdown",
   "id": "1cdf6355",
   "metadata": {},
   "source": [
    "#### Close the database. Once closed, it's unassessible till opened."
   ]
  },
  {
   "cell_type": "code",
   "execution_count": 45,
   "id": "5d467375",
   "metadata": {},
   "outputs": [],
   "source": [
    "con.close()"
   ]
  },
  {
   "cell_type": "markdown",
   "id": "b7201efb",
   "metadata": {},
   "source": [
    "#### To continue working on the table file, Open the existing database you are using."
   ]
  },
  {
   "cell_type": "code",
   "execution_count": 46,
   "id": "1b748127",
   "metadata": {},
   "outputs": [],
   "source": [
    "con = sqlite3.connect('mydatabase.db')"
   ]
  },
  {
   "cell_type": "code",
   "execution_count": null,
   "id": "a22a8a27",
   "metadata": {},
   "outputs": [],
   "source": []
  }
 ],
 "metadata": {
  "kernelspec": {
   "display_name": "Python 3",
   "language": "python",
   "name": "python3"
  },
  "language_info": {
   "codemirror_mode": {
    "name": "ipython",
    "version": 3
   },
   "file_extension": ".py",
   "mimetype": "text/x-python",
   "name": "python",
   "nbconvert_exporter": "python",
   "pygments_lexer": "ipython3",
   "version": "3.8.8"
  }
 },
 "nbformat": 4,
 "nbformat_minor": 5
}
