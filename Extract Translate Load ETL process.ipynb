{
 "cells": [
  {
   "cell_type": "markdown",
   "id": "27ce34cc",
   "metadata": {},
   "source": [
    "# SQLITE3\n",
    "* Using my sqlite database to run "
   ]
  },
  {
   "cell_type": "markdown",
   "id": "40032de5",
   "metadata": {},
   "source": [
    "#### Import Libraries"
   ]
  },
  {
   "cell_type": "code",
   "execution_count": 1,
   "id": "e65915fb",
   "metadata": {},
   "outputs": [],
   "source": [
    "import sqlite3\n",
    "import mysql.connector\n",
    "import pymongo\n",
    "import pandas as pd"
   ]
  },
  {
   "cell_type": "markdown",
   "id": "1613198a",
   "metadata": {},
   "source": [
    "###### Create a database that will hold the the tables and documents"
   ]
  },
  {
   "cell_type": "code",
   "execution_count": 2,
   "id": "de938176",
   "metadata": {},
   "outputs": [],
   "source": [
    "con = sqlite3.connect('demployees.db')"
   ]
  },
  {
   "cell_type": "markdown",
   "id": "909c6c50",
   "metadata": {},
   "source": [
    "###### Put the database in a cursor holder"
   ]
  },
  {
   "cell_type": "code",
   "execution_count": 3,
   "id": "866c16a3",
   "metadata": {},
   "outputs": [],
   "source": [
    "cursor = con.cursor()"
   ]
  },
  {
   "cell_type": "markdown",
   "id": "6e64cc20",
   "metadata": {},
   "source": [
    "###### create a table in the cursor folder"
   ]
  },
  {
   "cell_type": "code",
   "execution_count": 4,
   "id": "3dd9469a",
   "metadata": {},
   "outputs": [],
   "source": [
    "cursor.execute(\"CREATE TABLE HR(id integer PRIMARY KEY, name text, status text, salary real, department text, position text, hireDate text)\")\n",
    "con.commit()"
   ]
  },
  {
   "cell_type": "markdown",
   "id": "c727725a",
   "metadata": {},
   "source": [
    "###### create a counter"
   ]
  },
  {
   "cell_type": "code",
   "execution_count": 7,
   "id": "3afd6763",
   "metadata": {},
   "outputs": [
    {
     "name": "stdout",
     "output_type": "stream",
     "text": [
      "Enter your ID: 004\n",
      "Enter your name: KATE\n",
      "Enter your status: NO\n",
      "Enter your salary: 3000\n",
      "Enter your department: HR\n",
      "Enter your position: IT\n",
      "Enter date \"YYYY-M-D\": 2021-07-05\n",
      "Data has been inserted!!!\n",
      "Do you want to continue?\n",
      "Enter 1 to continue and 0 to quit1\n",
      "Enter your ID: 005\n",
      "Enter your name: MERCY\n",
      "Enter your status: YES\n",
      "Enter your salary: 2000\n",
      "Enter your department: HR\n",
      "Enter your position: IT\n",
      "Enter date \"YYYY-M-D\": 2021-07-03\n",
      "Data has been inserted!!!\n",
      "Do you want to continue?\n",
      "Enter 1 to continue and 0 to quit0\n",
      "Thank you!!\n"
     ]
    }
   ],
   "source": [
    "counter = True\n",
    "while counter:\n",
    "    user_id = int(input('Enter your ID: '))\n",
    "    name = input('Enter your name: ')\n",
    "    status = input('Enter your status: ')\n",
    "    salary = float(input('Enter your salary: '))\n",
    "    department = input('Enter your department: ')\n",
    "    position = input('Enter your position: ')\n",
    "    date = input('Enter date \"YYYY-M-D\": ')\n",
    "    entities = (user_id,name,status,salary,department,position,date)\n",
    "    cursor.execute(\"INSERT INTO HR(id,name,status,salary,department,position,hireDate) VALUES(?,?,?,?,?,?,?)\",entities)\n",
    "    con.commit()\n",
    "    print('Data has been inserted!!!')\n",
    "    print('Do you want to continue?')\n",
    "    value = int(input(\"Enter 1 to continue and 0 to quit\"))\n",
    "    if value == 1:\n",
    "        pass\n",
    "    elif value == 0:\n",
    "        print('Thank you!!')\n",
    "        counter = False\n",
    "    else:\n",
    "        break\n"
   ]
  },
  {
   "cell_type": "markdown",
   "id": "ecac0864",
   "metadata": {},
   "source": [
    "###### fetch all the data in your HR table and print in rows and add row numbers"
   ]
  },
  {
   "cell_type": "code",
   "execution_count": 8,
   "id": "7c7b3ec2",
   "metadata": {},
   "outputs": [],
   "source": [
    "cursor.execute('SELECT * FROM HR')\n",
    "rows = cursor.fetchall()"
   ]
  },
  {
   "cell_type": "code",
   "execution_count": 16,
   "id": "55f96eff",
   "metadata": {},
   "outputs": [
    {
     "name": "stdout",
     "output_type": "stream",
     "text": [
      "(1, 'Winner E', 'Yes', 500.0, 'HR', 'MG', '2021-07-08')\n",
      "1\n",
      "(2, 'MARY A', 'NO', 700.0, 'IT', 'HR', '2021-07-08')\n",
      "2\n",
      "(3, 'JOY', 'YES', 1500.0, 'IT', 'IT', '2021-07-09')\n",
      "3\n",
      "(4, 'KATE', 'NO', 3000.0, 'HR', 'IT', '2021-07-05')\n",
      "4\n",
      "(5, 'MERCY', 'YES', 2000.0, 'HR', 'IT', '2021-07-03')\n",
      "5\n"
     ]
    }
   ],
   "source": [
    "for row in rows:\n",
    "    print(row)\n",
    "    print(row[0])"
   ]
  },
  {
   "cell_type": "markdown",
   "id": "193b72b1",
   "metadata": {},
   "source": [
    "###### put in list, \n",
    "* add the list to a dictionary in rows and print dictionary"
   ]
  },
  {
   "cell_type": "code",
   "execution_count": 10,
   "id": "ad0ee432",
   "metadata": {},
   "outputs": [],
   "source": [
    "mylist = []"
   ]
  },
  {
   "cell_type": "code",
   "execution_count": 11,
   "id": "99531b37",
   "metadata": {},
   "outputs": [],
   "source": [
    "for row in rows:\n",
    "    mylist.append({'id':row[0], 'name':row[1], 'status':row[2], 'salary':row[3], 'department':row[4], 'position':row[5], 'data':row[6]})"
   ]
  },
  {
   "cell_type": "code",
   "execution_count": 12,
   "id": "f25e9bba",
   "metadata": {},
   "outputs": [
    {
     "name": "stdout",
     "output_type": "stream",
     "text": [
      "[{'id': 1, 'name': 'Winner E', 'status': 'Yes', 'salary': 500.0, 'department': 'HR', 'position': 'MG', 'data': '2021-07-08'}, {'id': 2, 'name': 'MARY A', 'status': 'NO', 'salary': 700.0, 'department': 'IT', 'position': 'HR', 'data': '2021-07-08'}, {'id': 3, 'name': 'JOY', 'status': 'YES', 'salary': 1500.0, 'department': 'IT', 'position': 'IT', 'data': '2021-07-09'}, {'id': 4, 'name': 'KATE', 'status': 'NO', 'salary': 3000.0, 'department': 'HR', 'position': 'IT', 'data': '2021-07-05'}, {'id': 5, 'name': 'MERCY', 'status': 'YES', 'salary': 2000.0, 'department': 'HR', 'position': 'IT', 'data': '2021-07-03'}]\n"
     ]
    }
   ],
   "source": [
    "print(mylist)"
   ]
  },
  {
   "cell_type": "markdown",
   "id": "4f27a356",
   "metadata": {},
   "source": [
    "###### put the data list into a dataframe and print"
   ]
  },
  {
   "cell_type": "code",
   "execution_count": 13,
   "id": "4ed76207",
   "metadata": {},
   "outputs": [],
   "source": [
    "sqlite3_df = pd.DataFrame(mylist)"
   ]
  },
  {
   "cell_type": "code",
   "execution_count": 14,
   "id": "7f372804",
   "metadata": {},
   "outputs": [
    {
     "name": "stdout",
     "output_type": "stream",
     "text": [
      "   id      name status  salary department position        data\n",
      "0   1  Winner E    Yes   500.0         HR       MG  2021-07-08\n",
      "1   2    MARY A     NO   700.0         IT       HR  2021-07-08\n",
      "2   3       JOY    YES  1500.0         IT       IT  2021-07-09\n",
      "3   4      KATE     NO  3000.0         HR       IT  2021-07-05\n",
      "4   5     MERCY    YES  2000.0         HR       IT  2021-07-03\n"
     ]
    }
   ],
   "source": [
    "print(sqlite3_df)"
   ]
  },
  {
   "cell_type": "markdown",
   "id": "d9562d96",
   "metadata": {},
   "source": [
    "# MYSQL Data Source\n",
    "\n",
    "* using xampp to run and Myphp to view"
   ]
  },
  {
   "cell_type": "markdown",
   "id": "fb8e788c",
   "metadata": {},
   "source": [
    "###### link to the sql connector "
   ]
  },
  {
   "cell_type": "code",
   "execution_count": 17,
   "id": "c7865ca9",
   "metadata": {},
   "outputs": [],
   "source": [
    "mydb = mysql.connector.connect(host=\"localhost\",user=\"root\",password=\"\")"
   ]
  },
  {
   "cell_type": "markdown",
   "id": "2e1d3c2c",
   "metadata": {},
   "source": [
    "###### steps to creating table\n",
    "* create a database and \n",
    "* connect the database to the sql connector \n",
    "* create a cursor for the database\n",
    "* creating a table in the cursor"
   ]
  },
  {
   "cell_type": "code",
   "execution_count": 19,
   "id": "18b681a1",
   "metadata": {},
   "outputs": [],
   "source": [
    "cursor.execute(\"CREATE DATABASE demployees\")"
   ]
  },
  {
   "cell_type": "code",
   "execution_count": 30,
   "id": "a90a6982",
   "metadata": {},
   "outputs": [],
   "source": [
    "mydb = mysql.connector.connect(host=\"localhost\",user=\"root\",password=\"\",database=\"demployees\")"
   ]
  },
  {
   "cell_type": "code",
   "execution_count": 31,
   "id": "0c7d41d8",
   "metadata": {},
   "outputs": [],
   "source": [
    "cursor = mydb.cursor()"
   ]
  },
  {
   "cell_type": "code",
   "execution_count": 32,
   "id": "0aaf1a3d",
   "metadata": {},
   "outputs": [],
   "source": [
    "cursor.execute(\"CREATE TABLE IT (id INT AUTO_INCREMENT PRIMARY KEY, name VARCHAR(255), status VARCHAR(255), salary INT, department VARCHAR(255), position VARCHAR(255), high_date VARCHAR(255))\")\n",
    "mydb.commit()"
   ]
  },
  {
   "cell_type": "markdown",
   "id": "d9f5064c",
   "metadata": {},
   "source": [
    "###### create a counter"
   ]
  },
  {
   "cell_type": "code",
   "execution_count": 34,
   "id": "2b5147d1",
   "metadata": {},
   "outputs": [
    {
     "name": "stdout",
     "output_type": "stream",
     "text": [
      "Enter your name: JOHN E\n",
      "Enter your statusYES\n",
      "Enter your salary: 1000\n",
      "Enter your department: HR\n",
      "Enter your position: IT\n",
      "Enter date \"YYYY-M-D\": 2021-07-03\n",
      "Data has been inserted!!!\n",
      "Do you want to continue?\n",
      "Enter 1 to continue and 0 to quit0\n",
      "Thank you!!\n"
     ]
    }
   ],
   "source": [
    "counter = True\n",
    "while counter:\n",
    "    name = input('Enter your name: ')\n",
    "    status = input('Enter your status')\n",
    "    salary = int(input('Enter your salary: '))\n",
    "    department = input('Enter your department: ')\n",
    "    position = input('Enter your position: ')\n",
    "    date = input('Enter date \"YYYY-M-D\": ')\n",
    "    vals = (name,status,salary,department,position,date)\n",
    "    sql = \"INSERT INTO IT(name,status,salary,department,position,high_date) VALUES(%s,%s,%s,%s,%s,%s)\"\n",
    "    cursor.execute(sql,vals)\n",
    "    mydb.commit()\n",
    "    print('Data has been inserted!!!')\n",
    "    print('Do you want to continue?')\n",
    "    value = int(input(\"Enter 1 to continue and 0 to quit\"))\n",
    "    if value == 1:\n",
    "        pass\n",
    "    elif value == 0:\n",
    "        print('Thank you!!')\n",
    "        counter = False\n",
    "    else:\n",
    "        break"
   ]
  },
  {
   "cell_type": "markdown",
   "id": "a808a1a2",
   "metadata": {},
   "source": [
    "###### fetch all the data in your IT table \n",
    "* add list\n",
    "* add list in dictionary\n",
    "* print dictionary in DataFrame"
   ]
  },
  {
   "cell_type": "code",
   "execution_count": 35,
   "id": "798064c9",
   "metadata": {},
   "outputs": [],
   "source": [
    "cursor.execute(\"SELECT * FROM IT\")\n",
    "rows = cursor.fetchall()"
   ]
  },
  {
   "cell_type": "code",
   "execution_count": 36,
   "id": "71b16579",
   "metadata": {},
   "outputs": [],
   "source": [
    "mylist = []"
   ]
  },
  {
   "cell_type": "code",
   "execution_count": 37,
   "id": "35896b2a",
   "metadata": {},
   "outputs": [],
   "source": [
    "for row in rows:\n",
    "    mylist.append({'id':row[0], 'name':row[1], 'status':row[2], 'salary':row[3], 'department':row[4], 'position':row[5], 'data':row[6]})"
   ]
  },
  {
   "cell_type": "code",
   "execution_count": 38,
   "id": "ffb63b21",
   "metadata": {},
   "outputs": [
    {
     "data": {
      "text/html": [
       "<div>\n",
       "<style scoped>\n",
       "    .dataframe tbody tr th:only-of-type {\n",
       "        vertical-align: middle;\n",
       "    }\n",
       "\n",
       "    .dataframe tbody tr th {\n",
       "        vertical-align: top;\n",
       "    }\n",
       "\n",
       "    .dataframe thead th {\n",
       "        text-align: right;\n",
       "    }\n",
       "</style>\n",
       "<table border=\"1\" class=\"dataframe\">\n",
       "  <thead>\n",
       "    <tr style=\"text-align: right;\">\n",
       "      <th></th>\n",
       "      <th>id</th>\n",
       "      <th>name</th>\n",
       "      <th>status</th>\n",
       "      <th>salary</th>\n",
       "      <th>department</th>\n",
       "      <th>position</th>\n",
       "      <th>data</th>\n",
       "    </tr>\n",
       "  </thead>\n",
       "  <tbody>\n",
       "    <tr>\n",
       "      <th>0</th>\n",
       "      <td>1</td>\n",
       "      <td>Winner E</td>\n",
       "      <td>Yes</td>\n",
       "      <td>5000</td>\n",
       "      <td>IT</td>\n",
       "      <td>MG</td>\n",
       "      <td>2021-07-08</td>\n",
       "    </tr>\n",
       "    <tr>\n",
       "      <th>1</th>\n",
       "      <td>2</td>\n",
       "      <td>GRACE I</td>\n",
       "      <td>YES</td>\n",
       "      <td>4500</td>\n",
       "      <td>IT</td>\n",
       "      <td>HR</td>\n",
       "      <td>2021-07-06</td>\n",
       "    </tr>\n",
       "    <tr>\n",
       "      <th>2</th>\n",
       "      <td>3</td>\n",
       "      <td>LILIAN U</td>\n",
       "      <td>YES</td>\n",
       "      <td>6000</td>\n",
       "      <td>HR</td>\n",
       "      <td>MG</td>\n",
       "      <td>2021-07-08</td>\n",
       "    </tr>\n",
       "    <tr>\n",
       "      <th>3</th>\n",
       "      <td>4</td>\n",
       "      <td>KATE J</td>\n",
       "      <td>NO</td>\n",
       "      <td>3000</td>\n",
       "      <td>HR</td>\n",
       "      <td>IT</td>\n",
       "      <td>2021-07-05</td>\n",
       "    </tr>\n",
       "    <tr>\n",
       "      <th>4</th>\n",
       "      <td>5</td>\n",
       "      <td>JOHN E</td>\n",
       "      <td>YES</td>\n",
       "      <td>1000</td>\n",
       "      <td>HR</td>\n",
       "      <td>IT</td>\n",
       "      <td>2021-07-03</td>\n",
       "    </tr>\n",
       "  </tbody>\n",
       "</table>\n",
       "</div>"
      ],
      "text/plain": [
       "   id      name status  salary department position        data\n",
       "0   1  Winner E    Yes    5000         IT       MG  2021-07-08\n",
       "1   2   GRACE I    YES    4500         IT       HR  2021-07-06\n",
       "2   3  LILIAN U    YES    6000         HR       MG  2021-07-08\n",
       "3   4    KATE J     NO    3000         HR       IT  2021-07-05\n",
       "4   5    JOHN E    YES    1000         HR       IT  2021-07-03"
      ]
     },
     "execution_count": 38,
     "metadata": {},
     "output_type": "execute_result"
    }
   ],
   "source": [
    "mysql_df = pd.DataFrame(mylist)\n",
    "mysql_df"
   ]
  },
  {
   "cell_type": "markdown",
   "id": "c8ec904d",
   "metadata": {},
   "source": [
    "# Mongo Data Source\n",
    "* using Mongo compass to run"
   ]
  },
  {
   "cell_type": "markdown",
   "id": "c806a64c",
   "metadata": {},
   "source": [
    "###### initialize a mongo connection"
   ]
  },
  {
   "cell_type": "code",
   "execution_count": 39,
   "id": "9469d4d9",
   "metadata": {},
   "outputs": [],
   "source": [
    "myclient = pymongo.MongoClient('mongodb://localhost:27017') "
   ]
  },
  {
   "cell_type": "markdown",
   "id": "210b4deb",
   "metadata": {},
   "source": [
    "###### steps\n",
    "* Create a database\n",
    "* Create a table in the database\n",
    "* add necessary columns"
   ]
  },
  {
   "cell_type": "code",
   "execution_count": 40,
   "id": "d15eaab2",
   "metadata": {},
   "outputs": [],
   "source": [
    "mydb = myclient['demployees']"
   ]
  },
  {
   "cell_type": "code",
   "execution_count": 41,
   "id": "f989a18a",
   "metadata": {},
   "outputs": [],
   "source": [
    "mycol = mydb['transactions']"
   ]
  },
  {
   "cell_type": "code",
   "execution_count": 42,
   "id": "eb157b90",
   "metadata": {},
   "outputs": [],
   "source": [
    "columns = [\"id\",\"name\",\"product\",\"amount\",\"saleprice\",\"status\",\"date\"]"
   ]
  },
  {
   "cell_type": "markdown",
   "id": "01b71dfb",
   "metadata": {},
   "source": [
    "###### create a counter"
   ]
  },
  {
   "cell_type": "code",
   "execution_count": 45,
   "id": "6c12fce6",
   "metadata": {},
   "outputs": [
    {
     "name": "stdout",
     "output_type": "stream",
     "text": [
      "Id: 004\n",
      "Name: KATE\n",
      "Product: BAG\n",
      "Amount: 3000\n",
      "Saleprice: 100000\n",
      "Status: SOLD\n",
      "Date YYYY-M-D: 2021-07-01\n",
      "Data has been inserted!!!\n",
      "Do you want to continue?\n",
      "Enter 1 to continue and 0 to quit: 1\n",
      "Id: 005\n",
      "Name: LILIAN\n",
      "Product: HAIR\n",
      "Amount: 1500\n",
      "Saleprice: 150000\n",
      "Status: SOLD\n",
      "Date YYYY-M-D: 2021-07-09\n",
      "Data has been inserted!!!\n",
      "Do you want to continue?\n",
      "Enter 1 to continue and 0 to quit: 1\n",
      "Id: 006\n",
      "Name: MARY\n",
      "Product: HYPE\n",
      "Amount: 20000000\n",
      "Saleprice: 500000000\n",
      "Status: SOLD\n",
      "Date YYYY-M-D: 2021-07-03\n",
      "Data has been inserted!!!\n",
      "Do you want to continue?\n",
      "Enter 1 to continue and 0 to quit: 0\n",
      "Thank you!!\n"
     ]
    }
   ],
   "source": [
    "counter = True\n",
    "while counter:\n",
    "    user_id = input(\"Id: \")\n",
    "    name = input(\"Name: \")\n",
    "    product= input(\"Product: \")\n",
    "    amount = int(input(\"Amount: \"))\n",
    "    saleprice = float(input(\"Saleprice: \"))\n",
    "    status = input(\"Status: \")\n",
    "    date = input(\"Date YYYY-M-D: \")\n",
    "\n",
    "    mydict = {\"_id\":user_id,\"name\":name,\"product\":product,\"amount\":amount,\"saleprice\":saleprice,\"status\":status,\"date\":date}\n",
    "    x = mycol.insert_one(mydict)\n",
    "\n",
    "    print('Data has been inserted!!!')\n",
    "    print('Do you want to continue?')\n",
    "    value = int(input(\"Enter 1 to continue and 0 to quit: \"))\n",
    "    if value == 1:\n",
    "        pass\n",
    "    elif value == 0:\n",
    "        print('Thank you!!')\n",
    "        counter = False\n",
    "    else:\n",
    "        break"
   ]
  },
  {
   "cell_type": "markdown",
   "id": "b4be4c1c",
   "metadata": {},
   "source": [
    "###### same with previous steps in sql but different approach\n",
    "###### fetch all the data in your Transaction table \n",
    "* call all data in a column and run in x or any letter of your choice\n",
    "* add list\n",
    "* pass the data in the x runned earlier\n",
    "* append the data into the list\n",
    "* add list in dictionary\n",
    "* print dictionary in DataFrame"
   ]
  },
  {
   "cell_type": "code",
   "execution_count": 46,
   "id": "b5ef9aca",
   "metadata": {},
   "outputs": [
    {
     "data": {
      "text/plain": [
       "<pymongo.cursor.Cursor at 0x1ba85022f10>"
      ]
     },
     "execution_count": 46,
     "metadata": {},
     "output_type": "execute_result"
    }
   ],
   "source": [
    "x = mycol.find()\n",
    "x"
   ]
  },
  {
   "cell_type": "code",
   "execution_count": 47,
   "id": "fcbfeb33",
   "metadata": {},
   "outputs": [],
   "source": [
    "mylist = []"
   ]
  },
  {
   "cell_type": "code",
   "execution_count": 48,
   "id": "8ab13c56",
   "metadata": {},
   "outputs": [
    {
     "name": "stdout",
     "output_type": "stream",
     "text": [
      "{'_id': '001', 'name': 'WINNER E', 'product': 'LAPTOP', 'amount': 1, 'saleprice': 1500.0, 'status': 'SOLD', 'date': '2021-07-08'}\n",
      "{'_id': '002', 'name': 'SHOE', 'product': 'SHOE', 'amount': 200, 'saleprice': 3000.0, 'status': 'sold', 'date': '2021-07-04'}\n",
      "{'_id': '003', 'name': 'MERCY', 'product': 'SHOW', 'amount': 3, 'saleprice': 3000.0, 'status': 'SOLD', 'date': '2021-07-02'}\n",
      "{'_id': '004', 'name': 'KATE', 'product': 'BAG', 'amount': 3000, 'saleprice': 100000.0, 'status': 'SOLD', 'date': '2021-07-01'}\n",
      "{'_id': '005', 'name': 'LILIAN', 'product': 'HAIR', 'amount': 1500, 'saleprice': 150000.0, 'status': 'SOLD', 'date': '2021-07-09'}\n",
      "{'_id': '006', 'name': 'MARY', 'product': 'HYPE', 'amount': 20000000, 'saleprice': 500000000.0, 'status': 'SOLD', 'date': '2021-07-03'}\n"
     ]
    }
   ],
   "source": [
    "for data in x:\n",
    "    mylist.append(data)\n",
    "    print(data)"
   ]
  },
  {
   "cell_type": "code",
   "execution_count": 49,
   "id": "7366fa5a",
   "metadata": {},
   "outputs": [
    {
     "name": "stdout",
     "output_type": "stream",
     "text": [
      "[{'_id': '001', 'name': 'WINNER E', 'product': 'LAPTOP', 'amount': 1, 'saleprice': 1500.0, 'status': 'SOLD', 'date': '2021-07-08'}, {'_id': '002', 'name': 'SHOE', 'product': 'SHOE', 'amount': 200, 'saleprice': 3000.0, 'status': 'sold', 'date': '2021-07-04'}, {'_id': '003', 'name': 'MERCY', 'product': 'SHOW', 'amount': 3, 'saleprice': 3000.0, 'status': 'SOLD', 'date': '2021-07-02'}, {'_id': '004', 'name': 'KATE', 'product': 'BAG', 'amount': 3000, 'saleprice': 100000.0, 'status': 'SOLD', 'date': '2021-07-01'}, {'_id': '005', 'name': 'LILIAN', 'product': 'HAIR', 'amount': 1500, 'saleprice': 150000.0, 'status': 'SOLD', 'date': '2021-07-09'}, {'_id': '006', 'name': 'MARY', 'product': 'HYPE', 'amount': 20000000, 'saleprice': 500000000.0, 'status': 'SOLD', 'date': '2021-07-03'}]\n"
     ]
    }
   ],
   "source": [
    "print(mylist)"
   ]
  },
  {
   "cell_type": "code",
   "execution_count": 50,
   "id": "00c62002",
   "metadata": {},
   "outputs": [
    {
     "data": {
      "text/html": [
       "<div>\n",
       "<style scoped>\n",
       "    .dataframe tbody tr th:only-of-type {\n",
       "        vertical-align: middle;\n",
       "    }\n",
       "\n",
       "    .dataframe tbody tr th {\n",
       "        vertical-align: top;\n",
       "    }\n",
       "\n",
       "    .dataframe thead th {\n",
       "        text-align: right;\n",
       "    }\n",
       "</style>\n",
       "<table border=\"1\" class=\"dataframe\">\n",
       "  <thead>\n",
       "    <tr style=\"text-align: right;\">\n",
       "      <th></th>\n",
       "      <th>_id</th>\n",
       "      <th>name</th>\n",
       "      <th>product</th>\n",
       "      <th>amount</th>\n",
       "      <th>saleprice</th>\n",
       "      <th>status</th>\n",
       "      <th>date</th>\n",
       "    </tr>\n",
       "  </thead>\n",
       "  <tbody>\n",
       "    <tr>\n",
       "      <th>0</th>\n",
       "      <td>001</td>\n",
       "      <td>WINNER E</td>\n",
       "      <td>LAPTOP</td>\n",
       "      <td>1</td>\n",
       "      <td>1500.0</td>\n",
       "      <td>SOLD</td>\n",
       "      <td>2021-07-08</td>\n",
       "    </tr>\n",
       "    <tr>\n",
       "      <th>1</th>\n",
       "      <td>002</td>\n",
       "      <td>SHOE</td>\n",
       "      <td>SHOE</td>\n",
       "      <td>200</td>\n",
       "      <td>3000.0</td>\n",
       "      <td>sold</td>\n",
       "      <td>2021-07-04</td>\n",
       "    </tr>\n",
       "    <tr>\n",
       "      <th>2</th>\n",
       "      <td>003</td>\n",
       "      <td>MERCY</td>\n",
       "      <td>SHOW</td>\n",
       "      <td>3</td>\n",
       "      <td>3000.0</td>\n",
       "      <td>SOLD</td>\n",
       "      <td>2021-07-02</td>\n",
       "    </tr>\n",
       "    <tr>\n",
       "      <th>3</th>\n",
       "      <td>004</td>\n",
       "      <td>KATE</td>\n",
       "      <td>BAG</td>\n",
       "      <td>3000</td>\n",
       "      <td>100000.0</td>\n",
       "      <td>SOLD</td>\n",
       "      <td>2021-07-01</td>\n",
       "    </tr>\n",
       "    <tr>\n",
       "      <th>4</th>\n",
       "      <td>005</td>\n",
       "      <td>LILIAN</td>\n",
       "      <td>HAIR</td>\n",
       "      <td>1500</td>\n",
       "      <td>150000.0</td>\n",
       "      <td>SOLD</td>\n",
       "      <td>2021-07-09</td>\n",
       "    </tr>\n",
       "    <tr>\n",
       "      <th>5</th>\n",
       "      <td>006</td>\n",
       "      <td>MARY</td>\n",
       "      <td>HYPE</td>\n",
       "      <td>20000000</td>\n",
       "      <td>500000000.0</td>\n",
       "      <td>SOLD</td>\n",
       "      <td>2021-07-03</td>\n",
       "    </tr>\n",
       "  </tbody>\n",
       "</table>\n",
       "</div>"
      ],
      "text/plain": [
       "   _id      name product    amount    saleprice status        date\n",
       "0  001  WINNER E  LAPTOP         1       1500.0   SOLD  2021-07-08\n",
       "1  002      SHOE    SHOE       200       3000.0   sold  2021-07-04\n",
       "2  003     MERCY    SHOW         3       3000.0   SOLD  2021-07-02\n",
       "3  004      KATE     BAG      3000     100000.0   SOLD  2021-07-01\n",
       "4  005    LILIAN    HAIR      1500     150000.0   SOLD  2021-07-09\n",
       "5  006      MARY    HYPE  20000000  500000000.0   SOLD  2021-07-03"
      ]
     },
     "execution_count": 50,
     "metadata": {},
     "output_type": "execute_result"
    }
   ],
   "source": [
    "mongoDB_df = pd.DataFrame(mylist)\n",
    "mongoDB_df"
   ]
  },
  {
   "cell_type": "markdown",
   "id": "35e88a49",
   "metadata": {},
   "source": [
    "###### create a new column called total that multiplies the amount and the sales price"
   ]
  },
  {
   "cell_type": "code",
   "execution_count": 51,
   "id": "5a6a3ddc",
   "metadata": {},
   "outputs": [
    {
     "data": {
      "text/html": [
       "<div>\n",
       "<style scoped>\n",
       "    .dataframe tbody tr th:only-of-type {\n",
       "        vertical-align: middle;\n",
       "    }\n",
       "\n",
       "    .dataframe tbody tr th {\n",
       "        vertical-align: top;\n",
       "    }\n",
       "\n",
       "    .dataframe thead th {\n",
       "        text-align: right;\n",
       "    }\n",
       "</style>\n",
       "<table border=\"1\" class=\"dataframe\">\n",
       "  <thead>\n",
       "    <tr style=\"text-align: right;\">\n",
       "      <th></th>\n",
       "      <th>_id</th>\n",
       "      <th>name</th>\n",
       "      <th>product</th>\n",
       "      <th>amount</th>\n",
       "      <th>saleprice</th>\n",
       "      <th>status</th>\n",
       "      <th>date</th>\n",
       "      <th>total</th>\n",
       "    </tr>\n",
       "  </thead>\n",
       "  <tbody>\n",
       "    <tr>\n",
       "      <th>0</th>\n",
       "      <td>001</td>\n",
       "      <td>WINNER E</td>\n",
       "      <td>LAPTOP</td>\n",
       "      <td>1</td>\n",
       "      <td>1500.0</td>\n",
       "      <td>SOLD</td>\n",
       "      <td>2021-07-08</td>\n",
       "      <td>1.500000e+03</td>\n",
       "    </tr>\n",
       "    <tr>\n",
       "      <th>1</th>\n",
       "      <td>002</td>\n",
       "      <td>SHOE</td>\n",
       "      <td>SHOE</td>\n",
       "      <td>200</td>\n",
       "      <td>3000.0</td>\n",
       "      <td>sold</td>\n",
       "      <td>2021-07-04</td>\n",
       "      <td>6.000000e+05</td>\n",
       "    </tr>\n",
       "    <tr>\n",
       "      <th>2</th>\n",
       "      <td>003</td>\n",
       "      <td>MERCY</td>\n",
       "      <td>SHOW</td>\n",
       "      <td>3</td>\n",
       "      <td>3000.0</td>\n",
       "      <td>SOLD</td>\n",
       "      <td>2021-07-02</td>\n",
       "      <td>9.000000e+03</td>\n",
       "    </tr>\n",
       "    <tr>\n",
       "      <th>3</th>\n",
       "      <td>004</td>\n",
       "      <td>KATE</td>\n",
       "      <td>BAG</td>\n",
       "      <td>3000</td>\n",
       "      <td>100000.0</td>\n",
       "      <td>SOLD</td>\n",
       "      <td>2021-07-01</td>\n",
       "      <td>3.000000e+08</td>\n",
       "    </tr>\n",
       "    <tr>\n",
       "      <th>4</th>\n",
       "      <td>005</td>\n",
       "      <td>LILIAN</td>\n",
       "      <td>HAIR</td>\n",
       "      <td>1500</td>\n",
       "      <td>150000.0</td>\n",
       "      <td>SOLD</td>\n",
       "      <td>2021-07-09</td>\n",
       "      <td>2.250000e+08</td>\n",
       "    </tr>\n",
       "    <tr>\n",
       "      <th>5</th>\n",
       "      <td>006</td>\n",
       "      <td>MARY</td>\n",
       "      <td>HYPE</td>\n",
       "      <td>20000000</td>\n",
       "      <td>500000000.0</td>\n",
       "      <td>SOLD</td>\n",
       "      <td>2021-07-03</td>\n",
       "      <td>1.000000e+16</td>\n",
       "    </tr>\n",
       "  </tbody>\n",
       "</table>\n",
       "</div>"
      ],
      "text/plain": [
       "   _id      name product    amount    saleprice status        date  \\\n",
       "0  001  WINNER E  LAPTOP         1       1500.0   SOLD  2021-07-08   \n",
       "1  002      SHOE    SHOE       200       3000.0   sold  2021-07-04   \n",
       "2  003     MERCY    SHOW         3       3000.0   SOLD  2021-07-02   \n",
       "3  004      KATE     BAG      3000     100000.0   SOLD  2021-07-01   \n",
       "4  005    LILIAN    HAIR      1500     150000.0   SOLD  2021-07-09   \n",
       "5  006      MARY    HYPE  20000000  500000000.0   SOLD  2021-07-03   \n",
       "\n",
       "          total  \n",
       "0  1.500000e+03  \n",
       "1  6.000000e+05  \n",
       "2  9.000000e+03  \n",
       "3  3.000000e+08  \n",
       "4  2.250000e+08  \n",
       "5  1.000000e+16  "
      ]
     },
     "execution_count": 51,
     "metadata": {},
     "output_type": "execute_result"
    }
   ],
   "source": [
    "mongoDB_df['total'] = mongoDB_df['amount'] * mongoDB_df['saleprice']\n",
    "mongoDB_df"
   ]
  },
  {
   "cell_type": "markdown",
   "id": "ca166baa",
   "metadata": {},
   "source": [
    "# Pull data Together\n",
    "###### pull all the dataframes created\n",
    "* The sql daraframe\n",
    "* the sqllite3 dataframe\n",
    "* the mongodb dataframe"
   ]
  },
  {
   "cell_type": "code",
   "execution_count": 52,
   "id": "6fa53a64",
   "metadata": {},
   "outputs": [
    {
     "data": {
      "text/html": [
       "<div>\n",
       "<style scoped>\n",
       "    .dataframe tbody tr th:only-of-type {\n",
       "        vertical-align: middle;\n",
       "    }\n",
       "\n",
       "    .dataframe tbody tr th {\n",
       "        vertical-align: top;\n",
       "    }\n",
       "\n",
       "    .dataframe thead th {\n",
       "        text-align: right;\n",
       "    }\n",
       "</style>\n",
       "<table border=\"1\" class=\"dataframe\">\n",
       "  <thead>\n",
       "    <tr style=\"text-align: right;\">\n",
       "      <th></th>\n",
       "      <th>id</th>\n",
       "      <th>name</th>\n",
       "      <th>status</th>\n",
       "      <th>salary</th>\n",
       "      <th>department</th>\n",
       "      <th>position</th>\n",
       "      <th>data</th>\n",
       "    </tr>\n",
       "  </thead>\n",
       "  <tbody>\n",
       "    <tr>\n",
       "      <th>0</th>\n",
       "      <td>1</td>\n",
       "      <td>Winner E</td>\n",
       "      <td>Yes</td>\n",
       "      <td>5000</td>\n",
       "      <td>IT</td>\n",
       "      <td>MG</td>\n",
       "      <td>2021-07-08</td>\n",
       "    </tr>\n",
       "    <tr>\n",
       "      <th>1</th>\n",
       "      <td>2</td>\n",
       "      <td>GRACE I</td>\n",
       "      <td>YES</td>\n",
       "      <td>4500</td>\n",
       "      <td>IT</td>\n",
       "      <td>HR</td>\n",
       "      <td>2021-07-06</td>\n",
       "    </tr>\n",
       "    <tr>\n",
       "      <th>2</th>\n",
       "      <td>3</td>\n",
       "      <td>LILIAN U</td>\n",
       "      <td>YES</td>\n",
       "      <td>6000</td>\n",
       "      <td>HR</td>\n",
       "      <td>MG</td>\n",
       "      <td>2021-07-08</td>\n",
       "    </tr>\n",
       "    <tr>\n",
       "      <th>3</th>\n",
       "      <td>4</td>\n",
       "      <td>KATE J</td>\n",
       "      <td>NO</td>\n",
       "      <td>3000</td>\n",
       "      <td>HR</td>\n",
       "      <td>IT</td>\n",
       "      <td>2021-07-05</td>\n",
       "    </tr>\n",
       "    <tr>\n",
       "      <th>4</th>\n",
       "      <td>5</td>\n",
       "      <td>JOHN E</td>\n",
       "      <td>YES</td>\n",
       "      <td>1000</td>\n",
       "      <td>HR</td>\n",
       "      <td>IT</td>\n",
       "      <td>2021-07-03</td>\n",
       "    </tr>\n",
       "  </tbody>\n",
       "</table>\n",
       "</div>"
      ],
      "text/plain": [
       "   id      name status  salary department position        data\n",
       "0   1  Winner E    Yes    5000         IT       MG  2021-07-08\n",
       "1   2   GRACE I    YES    4500         IT       HR  2021-07-06\n",
       "2   3  LILIAN U    YES    6000         HR       MG  2021-07-08\n",
       "3   4    KATE J     NO    3000         HR       IT  2021-07-05\n",
       "4   5    JOHN E    YES    1000         HR       IT  2021-07-03"
      ]
     },
     "execution_count": 52,
     "metadata": {},
     "output_type": "execute_result"
    }
   ],
   "source": [
    "mysql_df"
   ]
  },
  {
   "cell_type": "code",
   "execution_count": 53,
   "id": "e6046cb4",
   "metadata": {},
   "outputs": [
    {
     "data": {
      "text/html": [
       "<div>\n",
       "<style scoped>\n",
       "    .dataframe tbody tr th:only-of-type {\n",
       "        vertical-align: middle;\n",
       "    }\n",
       "\n",
       "    .dataframe tbody tr th {\n",
       "        vertical-align: top;\n",
       "    }\n",
       "\n",
       "    .dataframe thead th {\n",
       "        text-align: right;\n",
       "    }\n",
       "</style>\n",
       "<table border=\"1\" class=\"dataframe\">\n",
       "  <thead>\n",
       "    <tr style=\"text-align: right;\">\n",
       "      <th></th>\n",
       "      <th>id</th>\n",
       "      <th>name</th>\n",
       "      <th>status</th>\n",
       "      <th>salary</th>\n",
       "      <th>department</th>\n",
       "      <th>position</th>\n",
       "      <th>data</th>\n",
       "    </tr>\n",
       "  </thead>\n",
       "  <tbody>\n",
       "    <tr>\n",
       "      <th>0</th>\n",
       "      <td>1</td>\n",
       "      <td>Winner E</td>\n",
       "      <td>Yes</td>\n",
       "      <td>500.0</td>\n",
       "      <td>HR</td>\n",
       "      <td>MG</td>\n",
       "      <td>2021-07-08</td>\n",
       "    </tr>\n",
       "    <tr>\n",
       "      <th>1</th>\n",
       "      <td>2</td>\n",
       "      <td>MARY A</td>\n",
       "      <td>NO</td>\n",
       "      <td>700.0</td>\n",
       "      <td>IT</td>\n",
       "      <td>HR</td>\n",
       "      <td>2021-07-08</td>\n",
       "    </tr>\n",
       "    <tr>\n",
       "      <th>2</th>\n",
       "      <td>3</td>\n",
       "      <td>JOY</td>\n",
       "      <td>YES</td>\n",
       "      <td>1500.0</td>\n",
       "      <td>IT</td>\n",
       "      <td>IT</td>\n",
       "      <td>2021-07-09</td>\n",
       "    </tr>\n",
       "    <tr>\n",
       "      <th>3</th>\n",
       "      <td>4</td>\n",
       "      <td>KATE</td>\n",
       "      <td>NO</td>\n",
       "      <td>3000.0</td>\n",
       "      <td>HR</td>\n",
       "      <td>IT</td>\n",
       "      <td>2021-07-05</td>\n",
       "    </tr>\n",
       "    <tr>\n",
       "      <th>4</th>\n",
       "      <td>5</td>\n",
       "      <td>MERCY</td>\n",
       "      <td>YES</td>\n",
       "      <td>2000.0</td>\n",
       "      <td>HR</td>\n",
       "      <td>IT</td>\n",
       "      <td>2021-07-03</td>\n",
       "    </tr>\n",
       "  </tbody>\n",
       "</table>\n",
       "</div>"
      ],
      "text/plain": [
       "   id      name status  salary department position        data\n",
       "0   1  Winner E    Yes   500.0         HR       MG  2021-07-08\n",
       "1   2    MARY A     NO   700.0         IT       HR  2021-07-08\n",
       "2   3       JOY    YES  1500.0         IT       IT  2021-07-09\n",
       "3   4      KATE     NO  3000.0         HR       IT  2021-07-05\n",
       "4   5     MERCY    YES  2000.0         HR       IT  2021-07-03"
      ]
     },
     "execution_count": 53,
     "metadata": {},
     "output_type": "execute_result"
    }
   ],
   "source": [
    "sqlite3_df"
   ]
  },
  {
   "cell_type": "code",
   "execution_count": 54,
   "id": "50f43cbe",
   "metadata": {},
   "outputs": [
    {
     "data": {
      "text/html": [
       "<div>\n",
       "<style scoped>\n",
       "    .dataframe tbody tr th:only-of-type {\n",
       "        vertical-align: middle;\n",
       "    }\n",
       "\n",
       "    .dataframe tbody tr th {\n",
       "        vertical-align: top;\n",
       "    }\n",
       "\n",
       "    .dataframe thead th {\n",
       "        text-align: right;\n",
       "    }\n",
       "</style>\n",
       "<table border=\"1\" class=\"dataframe\">\n",
       "  <thead>\n",
       "    <tr style=\"text-align: right;\">\n",
       "      <th></th>\n",
       "      <th>_id</th>\n",
       "      <th>name</th>\n",
       "      <th>product</th>\n",
       "      <th>amount</th>\n",
       "      <th>saleprice</th>\n",
       "      <th>status</th>\n",
       "      <th>date</th>\n",
       "      <th>total</th>\n",
       "    </tr>\n",
       "  </thead>\n",
       "  <tbody>\n",
       "    <tr>\n",
       "      <th>0</th>\n",
       "      <td>001</td>\n",
       "      <td>WINNER E</td>\n",
       "      <td>LAPTOP</td>\n",
       "      <td>1</td>\n",
       "      <td>1500.0</td>\n",
       "      <td>SOLD</td>\n",
       "      <td>2021-07-08</td>\n",
       "      <td>1.500000e+03</td>\n",
       "    </tr>\n",
       "    <tr>\n",
       "      <th>1</th>\n",
       "      <td>002</td>\n",
       "      <td>SHOE</td>\n",
       "      <td>SHOE</td>\n",
       "      <td>200</td>\n",
       "      <td>3000.0</td>\n",
       "      <td>sold</td>\n",
       "      <td>2021-07-04</td>\n",
       "      <td>6.000000e+05</td>\n",
       "    </tr>\n",
       "    <tr>\n",
       "      <th>2</th>\n",
       "      <td>003</td>\n",
       "      <td>MERCY</td>\n",
       "      <td>SHOW</td>\n",
       "      <td>3</td>\n",
       "      <td>3000.0</td>\n",
       "      <td>SOLD</td>\n",
       "      <td>2021-07-02</td>\n",
       "      <td>9.000000e+03</td>\n",
       "    </tr>\n",
       "    <tr>\n",
       "      <th>3</th>\n",
       "      <td>004</td>\n",
       "      <td>KATE</td>\n",
       "      <td>BAG</td>\n",
       "      <td>3000</td>\n",
       "      <td>100000.0</td>\n",
       "      <td>SOLD</td>\n",
       "      <td>2021-07-01</td>\n",
       "      <td>3.000000e+08</td>\n",
       "    </tr>\n",
       "    <tr>\n",
       "      <th>4</th>\n",
       "      <td>005</td>\n",
       "      <td>LILIAN</td>\n",
       "      <td>HAIR</td>\n",
       "      <td>1500</td>\n",
       "      <td>150000.0</td>\n",
       "      <td>SOLD</td>\n",
       "      <td>2021-07-09</td>\n",
       "      <td>2.250000e+08</td>\n",
       "    </tr>\n",
       "    <tr>\n",
       "      <th>5</th>\n",
       "      <td>006</td>\n",
       "      <td>MARY</td>\n",
       "      <td>HYPE</td>\n",
       "      <td>20000000</td>\n",
       "      <td>500000000.0</td>\n",
       "      <td>SOLD</td>\n",
       "      <td>2021-07-03</td>\n",
       "      <td>1.000000e+16</td>\n",
       "    </tr>\n",
       "  </tbody>\n",
       "</table>\n",
       "</div>"
      ],
      "text/plain": [
       "   _id      name product    amount    saleprice status        date  \\\n",
       "0  001  WINNER E  LAPTOP         1       1500.0   SOLD  2021-07-08   \n",
       "1  002      SHOE    SHOE       200       3000.0   sold  2021-07-04   \n",
       "2  003     MERCY    SHOW         3       3000.0   SOLD  2021-07-02   \n",
       "3  004      KATE     BAG      3000     100000.0   SOLD  2021-07-01   \n",
       "4  005    LILIAN    HAIR      1500     150000.0   SOLD  2021-07-09   \n",
       "5  006      MARY    HYPE  20000000  500000000.0   SOLD  2021-07-03   \n",
       "\n",
       "          total  \n",
       "0  1.500000e+03  \n",
       "1  6.000000e+05  \n",
       "2  9.000000e+03  \n",
       "3  3.000000e+08  \n",
       "4  2.250000e+08  \n",
       "5  1.000000e+16  "
      ]
     },
     "execution_count": 54,
     "metadata": {},
     "output_type": "execute_result"
    }
   ],
   "source": [
    "mongoDB_df"
   ]
  },
  {
   "cell_type": "markdown",
   "id": "7fdf443c",
   "metadata": {},
   "source": [
    "# Create a Data Warehouse (Using MySQL)\n",
    "\n",
    "* N.B. MySQL is ran by xampp and MyPhp in browser -- localhost"
   ]
  },
  {
   "cell_type": "markdown",
   "id": "5c10f0c2",
   "metadata": {},
   "source": [
    "###### Connect to MySQL Server"
   ]
  },
  {
   "cell_type": "code",
   "execution_count": 55,
   "id": "51904370",
   "metadata": {},
   "outputs": [],
   "source": [
    "mydb = mysql.connector.connect(host=\"localhost\",user=\"root\",password=\"\")"
   ]
  },
  {
   "cell_type": "markdown",
   "id": "f5c5c019",
   "metadata": {},
   "source": [
    "###### Create a Cursor object for ex"
   ]
  },
  {
   "cell_type": "code",
   "execution_count": 56,
   "id": "ac66ce10",
   "metadata": {},
   "outputs": [],
   "source": [
    "cursor = mydb.cursor()"
   ]
  },
  {
   "cell_type": "markdown",
   "id": "14f0db8d",
   "metadata": {},
   "source": [
    "###### Create Database warehouse in MySQL"
   ]
  },
  {
   "cell_type": "code",
   "execution_count": 57,
   "id": "f2c2f1a5",
   "metadata": {},
   "outputs": [],
   "source": [
    "cursor.execute(\"CREATE DATABASE datawarehouse\")"
   ]
  },
  {
   "cell_type": "markdown",
   "id": "2821c0d9",
   "metadata": {},
   "source": [
    "###### Connect to MySQL Server Datawarehouse"
   ]
  },
  {
   "cell_type": "code",
   "execution_count": 58,
   "id": "6c6b9232",
   "metadata": {},
   "outputs": [],
   "source": [
    "mydb = mysql.connector.connect(host=\"localhost\",user=\"root\",password=\"\",database='datawarehouse')"
   ]
  },
  {
   "cell_type": "markdown",
   "id": "cfa02964",
   "metadata": {},
   "source": [
    "###### Create a Cursor object for Datawarehouse"
   ]
  },
  {
   "cell_type": "code",
   "execution_count": 59,
   "id": "62533bc2",
   "metadata": {},
   "outputs": [],
   "source": [
    "cursor = mydb.cursor()"
   ]
  },
  {
   "cell_type": "markdown",
   "id": "b729e09a",
   "metadata": {},
   "source": [
    "# Load Functions for MySQL"
   ]
  },
  {
   "cell_type": "markdown",
   "id": "e7938358",
   "metadata": {},
   "source": [
    "* table_name from created tables in each database\n",
    "* load created dataframe into dictionary\n",
    "* insert each table entity into the sql\n",
    "* load data from each table entity counter"
   ]
  },
  {
   "cell_type": "code",
   "execution_count": 60,
   "id": "cac74419",
   "metadata": {},
   "outputs": [],
   "source": [
    "def create_table(table_name):\n",
    "    cursor.execute(f\"CREATE TABLE {table_name} (id INT AUTO_INCREMENT PRIMARY KEY, name VARCHAR(255), status VARCHAR(255), salary INT, department VARCHAR(255), position VARCHAR(255), high_date VARCHAR(255))\")\n",
    "    mydb.commit()"
   ]
  },
  {
   "cell_type": "code",
   "execution_count": 61,
   "id": "8f620d12",
   "metadata": {},
   "outputs": [],
   "source": [
    "def convert_dataframe(dataframe):\n",
    "    data_dict = dataframe.to_dict()\n",
    "    return data_dict"
   ]
  },
  {
   "cell_type": "code",
   "execution_count": 62,
   "id": "89c15e17",
   "metadata": {},
   "outputs": [],
   "source": [
    "def insert_query(table):\n",
    "    sql = f\"INSERT INTO {table}(name,status,salary,department,position,high_date) VALUES(%s,%s,%s,%s,%s,%s)\"\n",
    "    return sql"
   ]
  },
  {
   "cell_type": "code",
   "execution_count": 63,
   "id": "d5601946",
   "metadata": {},
   "outputs": [],
   "source": [
    "def load(data_dict,sql):\n",
    "    counter = len(data_dict[\"name\"].values())-1\n",
    "\n",
    "    while counter >= 0:\n",
    "        global name\n",
    "        name = data_dict['name'][counter]\n",
    "        global status\n",
    "        status = data_dict['status'][counter]\n",
    "        global salary\n",
    "        salary = data_dict['salary'][counter]\n",
    "        global department\n",
    "        department = data_dict['department'][counter]\n",
    "        global position\n",
    "        position = data_dict['position'][counter]\n",
    "        global date\n",
    "        date = data_dict['data'][counter]\n",
    "        vals = (name,status,salary,department,position,date)\n",
    "        cursor.execute(sql,vals)\n",
    "        mydb.commit()\n",
    "\n",
    "        counter -= 1\n",
    "        if counter == 0:\n",
    "            print(\"All data has been inserted!!!\")"
   ]
  },
  {
   "cell_type": "markdown",
   "id": "63e09956",
   "metadata": {},
   "source": [
    "# Load Function for MongoDB"
   ]
  },
  {
   "cell_type": "markdown",
   "id": "d14ea720",
   "metadata": {},
   "source": [
    "* table_name from created tables in each database\n",
    "* insert each table entity into the sql\n",
    "* load data from each table entity counter"
   ]
  },
  {
   "cell_type": "code",
   "execution_count": 64,
   "id": "46239db3",
   "metadata": {},
   "outputs": [],
   "source": [
    "def create_table_mdb(table_name):\n",
    "    cursor.execute(f\"CREATE TABLE {table_name} (id INT AUTO_INCREMENT PRIMARY KEY, name VARCHAR(255), product VARCHAR(255), amount INT, saleprice INT, status VARCHAR(255), date VARCHAR(255), total VARCHAR(255))\")\n",
    "    mydb.commit()"
   ]
  },
  {
   "cell_type": "code",
   "execution_count": 65,
   "id": "e5e1ef33",
   "metadata": {},
   "outputs": [],
   "source": [
    "def insert_query_mdb(table):\n",
    "    sql = f\"INSERT INTO {table}(name,product,amount,saleprice,status,date,total) VALUES(%s,%s,%s,%s,%s,%s,%s)\"\n",
    "    return sql"
   ]
  },
  {
   "cell_type": "code",
   "execution_count": 66,
   "id": "003cb6f4",
   "metadata": {},
   "outputs": [],
   "source": [
    "def load_mdb(data_dict,sql):\n",
    "    counter = len(data_dict[\"name\"].values())-1\n",
    "\n",
    "    while counter >= 0:\n",
    "        global name\n",
    "        name = data_dict['name'][counter]\n",
    "        global product\n",
    "        product = data_dict['product'][counter]\n",
    "        global amount\n",
    "        amount = data_dict['amount'][counter]\n",
    "        global saleprice\n",
    "        saleprice = data_dict['saleprice'][counter]\n",
    "        global status\n",
    "        status = data_dict['status'][counter]\n",
    "        global date\n",
    "        date = data_dict['date'][counter]\n",
    "        global total\n",
    "        total = data_dict['total'][counter]\n",
    "        vals = (name,product,amount,saleprice,status,date,total)\n",
    "        cursor.execute(sql,vals)\n",
    "        mydb.commit()\n",
    "\n",
    "        counter -= 1\n",
    "        if counter == 0:\n",
    "            print(\"All data has been inserted!!!\")"
   ]
  },
  {
   "cell_type": "markdown",
   "id": "ba10ad54",
   "metadata": {},
   "source": [
    "###### At this point each table for each database has been created in the Datawarehouse. Next step is to store all the datasource of each database into it's own placeholder"
   ]
  },
  {
   "cell_type": "markdown",
   "id": "4a71831b",
   "metadata": {},
   "source": [
    "# MySQL Table in Datawarehouse to store MySQL data source"
   ]
  },
  {
   "cell_type": "markdown",
   "id": "5d83e8ad",
   "metadata": {},
   "source": [
    "* create table\n",
    "* passed saved dataframe into a database dictionary\n",
    "* load dictionary and table"
   ]
  },
  {
   "cell_type": "code",
   "execution_count": 67,
   "id": "12426f12",
   "metadata": {},
   "outputs": [],
   "source": [
    "create_table(\"IT\")"
   ]
  },
  {
   "cell_type": "code",
   "execution_count": 68,
   "id": "db19b19d",
   "metadata": {},
   "outputs": [
    {
     "data": {
      "text/plain": [
       "{'name': {0: 'Winner E',\n",
       "  1: 'GRACE I',\n",
       "  2: 'LILIAN U',\n",
       "  3: 'KATE J',\n",
       "  4: 'JOHN E'},\n",
       " 'status': {0: 'Yes', 1: 'YES', 2: 'YES', 3: 'NO', 4: 'YES'},\n",
       " 'salary': {0: 5000, 1: 4500, 2: 6000, 3: 3000, 4: 1000},\n",
       " 'department': {0: 'IT', 1: 'IT', 2: 'HR', 3: 'HR', 4: 'HR'},\n",
       " 'position': {0: 'MG', 1: 'HR', 2: 'MG', 3: 'IT', 4: 'IT'},\n",
       " 'data': {0: '2021-07-08',\n",
       "  1: '2021-07-06',\n",
       "  2: '2021-07-08',\n",
       "  3: '2021-07-05',\n",
       "  4: '2021-07-03'}}"
      ]
     },
     "execution_count": 68,
     "metadata": {},
     "output_type": "execute_result"
    }
   ],
   "source": [
    "mysql_dict = convert_dataframe(mysql_df)\n",
    "mysql_dict.pop('id')\n",
    "mysql_dict"
   ]
  },
  {
   "cell_type": "code",
   "execution_count": 69,
   "id": "62760ad9",
   "metadata": {},
   "outputs": [
    {
     "name": "stdout",
     "output_type": "stream",
     "text": [
      "All data has been inserted!!!\n"
     ]
    }
   ],
   "source": [
    "sql = insert_query(\"IT\")\n",
    "load(mysql_dict,sql)"
   ]
  },
  {
   "cell_type": "markdown",
   "id": "96e8e405",
   "metadata": {},
   "source": [
    "# SQLITE3 Table in Datawarehouse to store SQLite3 data source"
   ]
  },
  {
   "cell_type": "markdown",
   "id": "79381a80",
   "metadata": {},
   "source": [
    "* create table\n",
    "* passed saved dataframe into a database dictionary\n",
    "* load dictionary and table"
   ]
  },
  {
   "cell_type": "code",
   "execution_count": 70,
   "id": "2ac689f6",
   "metadata": {},
   "outputs": [],
   "source": [
    "create_table(\"HR\")"
   ]
  },
  {
   "cell_type": "code",
   "execution_count": 71,
   "id": "540de396",
   "metadata": {},
   "outputs": [
    {
     "data": {
      "text/plain": [
       "{'name': {0: 'Winner E', 1: 'MARY A', 2: 'JOY', 3: 'KATE', 4: 'MERCY'},\n",
       " 'status': {0: 'Yes', 1: 'NO', 2: 'YES', 3: 'NO', 4: 'YES'},\n",
       " 'salary': {0: 500.0, 1: 700.0, 2: 1500.0, 3: 3000.0, 4: 2000.0},\n",
       " 'department': {0: 'HR', 1: 'IT', 2: 'IT', 3: 'HR', 4: 'HR'},\n",
       " 'position': {0: 'MG', 1: 'HR', 2: 'IT', 3: 'IT', 4: 'IT'},\n",
       " 'data': {0: '2021-07-08',\n",
       "  1: '2021-07-08',\n",
       "  2: '2021-07-09',\n",
       "  3: '2021-07-05',\n",
       "  4: '2021-07-03'}}"
      ]
     },
     "execution_count": 71,
     "metadata": {},
     "output_type": "execute_result"
    }
   ],
   "source": [
    "sqlite3_dict = convert_dataframe(sqlite3_df)\n",
    "sqlite3_dict.pop(\"id\")\n",
    "sqlite3_dict"
   ]
  },
  {
   "cell_type": "code",
   "execution_count": 72,
   "id": "2d09cb86",
   "metadata": {},
   "outputs": [
    {
     "name": "stdout",
     "output_type": "stream",
     "text": [
      "All data has been inserted!!!\n"
     ]
    }
   ],
   "source": [
    "sql = insert_query(\"HR\")\n",
    "load(sqlite3_dict,sql)"
   ]
  },
  {
   "cell_type": "markdown",
   "id": "5f3392f4",
   "metadata": {},
   "source": [
    "# MongoDB Table in Datawarehouse to store MongoDB data source"
   ]
  },
  {
   "cell_type": "markdown",
   "id": "46ff5202",
   "metadata": {},
   "source": [
    "* create table\n",
    "* passed saved dataframe into a database dictionary\n",
    "* load dictionary and table"
   ]
  },
  {
   "cell_type": "code",
   "execution_count": 73,
   "id": "325158b1",
   "metadata": {},
   "outputs": [],
   "source": [
    "create_table_mdb(\"transactions\")"
   ]
  },
  {
   "cell_type": "code",
   "execution_count": 74,
   "id": "9c4a496e",
   "metadata": {},
   "outputs": [
    {
     "data": {
      "text/plain": [
       "{'name': {0: 'WINNER E',\n",
       "  1: 'SHOE',\n",
       "  2: 'MERCY',\n",
       "  3: 'KATE',\n",
       "  4: 'LILIAN',\n",
       "  5: 'MARY'},\n",
       " 'product': {0: 'LAPTOP',\n",
       "  1: 'SHOE',\n",
       "  2: 'SHOW',\n",
       "  3: 'BAG',\n",
       "  4: 'HAIR',\n",
       "  5: 'HYPE'},\n",
       " 'amount': {0: 1, 1: 200, 2: 3, 3: 3000, 4: 1500, 5: 20000000},\n",
       " 'saleprice': {0: 1500.0,\n",
       "  1: 3000.0,\n",
       "  2: 3000.0,\n",
       "  3: 100000.0,\n",
       "  4: 150000.0,\n",
       "  5: 500000000.0},\n",
       " 'status': {0: 'SOLD', 1: 'sold', 2: 'SOLD', 3: 'SOLD', 4: 'SOLD', 5: 'SOLD'},\n",
       " 'date': {0: '2021-07-08',\n",
       "  1: '2021-07-04',\n",
       "  2: '2021-07-02',\n",
       "  3: '2021-07-01',\n",
       "  4: '2021-07-09',\n",
       "  5: '2021-07-03'},\n",
       " 'total': {0: 1500.0,\n",
       "  1: 600000.0,\n",
       "  2: 9000.0,\n",
       "  3: 300000000.0,\n",
       "  4: 225000000.0,\n",
       "  5: 1e+16}}"
      ]
     },
     "execution_count": 74,
     "metadata": {},
     "output_type": "execute_result"
    }
   ],
   "source": [
    "mongodb_dict = convert_dataframe(mongoDB_df)\n",
    "mongodb_dict.pop(\"_id\")\n",
    "mongodb_dict"
   ]
  },
  {
   "cell_type": "code",
   "execution_count": 75,
   "id": "0214a5a0",
   "metadata": {},
   "outputs": [
    {
     "name": "stdout",
     "output_type": "stream",
     "text": [
      "All data has been inserted!!!\n"
     ]
    }
   ],
   "source": [
    "sql = insert_query_mdb(\"transactions\")\n",
    "load_mdb(mongodb_dict,sql)"
   ]
  },
  {
   "cell_type": "markdown",
   "id": "d101e6f3",
   "metadata": {},
   "source": [
    "##### By now, all tables with data's will have been stored in the datawarehouse.\n",
    "* Go to localhost on browser,\n",
    "* click on MyPhp \n",
    "* click on the newly created datawarehouse or whatever name you saved your combined database\n",
    "* each individual table and it's contect will have been formed\n",
    "* you can then click on each table to view it's content"
   ]
  },
  {
   "cell_type": "code",
   "execution_count": null,
   "id": "6c724fbc",
   "metadata": {},
   "outputs": [],
   "source": []
  }
 ],
 "metadata": {
  "kernelspec": {
   "display_name": "Python 3",
   "language": "python",
   "name": "python3"
  },
  "language_info": {
   "codemirror_mode": {
    "name": "ipython",
    "version": 3
   },
   "file_extension": ".py",
   "mimetype": "text/x-python",
   "name": "python",
   "nbconvert_exporter": "python",
   "pygments_lexer": "ipython3",
   "version": "3.8.8"
  }
 },
 "nbformat": 4,
 "nbformat_minor": 5
}
